{
 "cells": [
  {
   "cell_type": "markdown",
   "id": "4ba35403-bf8e-4b4b-963a-01b67399f16b",
   "metadata": {},
   "source": [
    "### Let the items be in an electronics shop "
   ]
  },
  {
   "cell_type": "code",
   "execution_count": 24,
   "id": "177edd88-c138-4e11-ad39-711493fcce8d",
   "metadata": {},
   "outputs": [
    {
     "name": "stdout",
     "output_type": "stream",
     "text": [
      "26400\n",
      "under budget by: 3600\n"
     ]
    }
   ],
   "source": [
    "Laptop = 20000\n",
    "Smart_phone = 6000\n",
    "Smart_watch = 400\n",
    "Total_budget = 30000\n",
    "Total_cost = Laptop + Smart_phone + Smart_watch \n",
    "print(Total_cost)\n",
    "if Total_cost > Total_budget: \n",
    "    print(\"over budget by:\", Total_cost - Total_budget)\n",
    "elif Total_cost < Total_budget: \n",
    "    print(\"under budget by:\", Total_budget- Total_cost )\n",
    "else: \n",
    "    print(\"Exactly on budget\")"
   ]
  }
 ],
 "metadata": {
  "kernelspec": {
   "display_name": "Python [conda env:base] *",
   "language": "python",
   "name": "conda-base-py"
  },
  "language_info": {
   "codemirror_mode": {
    "name": "ipython",
    "version": 3
   },
   "file_extension": ".py",
   "mimetype": "text/x-python",
   "name": "python",
   "nbconvert_exporter": "python",
   "pygments_lexer": "ipython3",
   "version": "3.12.7"
  }
 },
 "nbformat": 4,
 "nbformat_minor": 5
}
